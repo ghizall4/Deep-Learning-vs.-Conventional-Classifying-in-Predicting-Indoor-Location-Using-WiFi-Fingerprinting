{
  "cells": [
    {
      "metadata": {},
      "cell_type": "markdown",
      "source": "# Deep Learning for Predicting Indoor Location Using WiFi Fingerprinting\nHa Vu Tran"
    },
    {
      "metadata": {
        "trusted": true
      },
      "cell_type": "code",
      "source": "# necessary Libraries\nimport numpy as np\nimport pandas as pd\nimport time\nimport pprint\n\n#Visualizations\nimport matplotlib.pyplot as plt\nimport seaborn as sns\n\n\n#Preprocessing\nfrom sklearn import preprocessing\nfrom sklearn.model_selection import train_test_split\nfrom sklearn.preprocessing import StandardScaler\nfrom sklearn.decomposition import PCA \nfrom scipy.sparse import lil_matrix\n\n#Scoring Metrics\nfrom sklearn.metrics import accuracy_score\nfrom sklearn.metrics import mean_squared_error\n\n\nimport tensorflow as tf\nfrom keras.models import Sequential\nfrom keras.layers import *",
      "execution_count": 1,
      "outputs": [
        {
          "output_type": "stream",
          "text": "/home/nbuser/anaconda3_420/lib/python3.5/site-packages/h5py/__init__.py:36: FutureWarning: Conversion of the second argument of issubdtype from `float` to `np.floating` is deprecated. In future, it will be treated as `np.float64 == np.dtype(float).type`.\n  from ._conv import register_converters as _register_converters\nUsing TensorFlow backend.\n",
          "name": "stderr"
        }
      ]
    },
    {
      "metadata": {},
      "cell_type": "markdown",
      "source": "# Preprocess Data"
    },
    {
      "metadata": {
        "trusted": true
      },
      "cell_type": "code",
      "source": "df = pd.read_csv(\"challenge1.csv\")\n\n#df.head(10)",
      "execution_count": 15,
      "outputs": []
    },
    {
      "metadata": {
        "trusted": true
      },
      "cell_type": "code",
      "source": "#df.describe()",
      "execution_count": 16,
      "outputs": []
    },
    {
      "metadata": {
        "trusted": true
      },
      "cell_type": "code",
      "source": "\n#Drop unneeded data\ndf.drop(['Unnamed: 0', 'USERID', 'PHONEID', 'TIMESTAMP'], axis = 1, inplace=True)\n\n#Remove \"NaN\" value\ncol = df.columns[0:520]\nfor i in col:\n    df[i].fillna(0, inplace=True)\ndf.dropna(subset=['LONGITUDE','LATITUDE', 'FLOOR', 'BUILDINGID' ], inplace=True)\n#trainingData.isnull().sum()\n\n\n\n#Process \"WAP\" data\ndf.iloc[:, 0:520] = np.where(df.iloc[:, 0:520] <= 0, \n                        df.iloc[:, 0:520] + 105, \n                        df.iloc[:, 0:520] - 100)\n\n#Process Longtitude\ndf.iloc[:, 520] = np.where(df.iloc[:, 520] <= 0, \n                        -df.iloc[:, 520], \n                        df.iloc[:, 520])\n\n\ndf.describe()",
      "execution_count": 17,
      "outputs": [
        {
          "output_type": "execute_result",
          "execution_count": 17,
          "data": {
            "text/html": "<div>\n<table border=\"1\" class=\"dataframe\">\n  <thead>\n    <tr style=\"text-align: right;\">\n      <th></th>\n      <th>WAP001</th>\n      <th>WAP002</th>\n      <th>WAP003</th>\n      <th>WAP004</th>\n      <th>WAP005</th>\n      <th>WAP006</th>\n      <th>WAP007</th>\n      <th>WAP008</th>\n      <th>WAP009</th>\n      <th>WAP010</th>\n      <th>...</th>\n      <th>WAP514</th>\n      <th>WAP515</th>\n      <th>WAP516</th>\n      <th>WAP517</th>\n      <th>WAP518</th>\n      <th>WAP519</th>\n      <th>WAP520</th>\n      <th>LONGITUDE</th>\n      <th>LATITUDE</th>\n      <th>BUILDINGID</th>\n    </tr>\n  </thead>\n  <tbody>\n    <tr>\n      <th>count</th>\n      <td>19159.000000</td>\n      <td>19159.000000</td>\n      <td>19159.000000</td>\n      <td>19159.000000</td>\n      <td>19159.000000</td>\n      <td>19159.000000</td>\n      <td>19159.000000</td>\n      <td>19159.000000</td>\n      <td>19159.000000</td>\n      <td>19159.000000</td>\n      <td>...</td>\n      <td>19159.00000</td>\n      <td>19159.000000</td>\n      <td>19159.000000</td>\n      <td>19159.000000</td>\n      <td>19159.00000</td>\n      <td>19159.000000</td>\n      <td>19159.000000</td>\n      <td>19159.000000</td>\n      <td>1.915900e+04</td>\n      <td>19159.000000</td>\n    </tr>\n    <tr>\n      <th>mean</th>\n      <td>0.951720</td>\n      <td>0.965082</td>\n      <td>1.145415</td>\n      <td>1.150895</td>\n      <td>0.979644</td>\n      <td>1.396263</td>\n      <td>1.750822</td>\n      <td>1.821859</td>\n      <td>1.907198</td>\n      <td>1.182891</td>\n      <td>...</td>\n      <td>1.13889</td>\n      <td>1.103868</td>\n      <td>5.919202</td>\n      <td>7.535832</td>\n      <td>1.15340</td>\n      <td>1.048176</td>\n      <td>1.161856</td>\n      <td>7464.202052</td>\n      <td>4.864871e+06</td>\n      <td>1.213581</td>\n    </tr>\n    <tr>\n      <th>std</th>\n      <td>9.907839</td>\n      <td>9.945870</td>\n      <td>10.907006</td>\n      <td>10.932780</td>\n      <td>9.975353</td>\n      <td>10.995386</td>\n      <td>11.424759</td>\n      <td>11.274403</td>\n      <td>11.739711</td>\n      <td>10.859246</td>\n      <td>...</td>\n      <td>10.38636</td>\n      <td>10.499751</td>\n      <td>16.221807</td>\n      <td>16.427428</td>\n      <td>10.88876</td>\n      <td>10.432185</td>\n      <td>10.984137</td>\n      <td>123.311468</td>\n      <td>6.696052e+01</td>\n      <td>0.832702</td>\n    </tr>\n    <tr>\n      <th>min</th>\n      <td>0.000000</td>\n      <td>0.000000</td>\n      <td>0.000000</td>\n      <td>0.000000</td>\n      <td>0.000000</td>\n      <td>0.000000</td>\n      <td>0.000000</td>\n      <td>0.000000</td>\n      <td>0.000000</td>\n      <td>0.000000</td>\n      <td>...</td>\n      <td>0.00000</td>\n      <td>0.000000</td>\n      <td>0.000000</td>\n      <td>0.000000</td>\n      <td>0.00000</td>\n      <td>0.000000</td>\n      <td>0.000000</td>\n      <td>7300.818990</td>\n      <td>4.864746e+06</td>\n      <td>0.000000</td>\n    </tr>\n    <tr>\n      <th>25%</th>\n      <td>0.000000</td>\n      <td>0.000000</td>\n      <td>0.000000</td>\n      <td>0.000000</td>\n      <td>0.000000</td>\n      <td>0.000000</td>\n      <td>0.000000</td>\n      <td>0.000000</td>\n      <td>0.000000</td>\n      <td>0.000000</td>\n      <td>...</td>\n      <td>0.00000</td>\n      <td>0.000000</td>\n      <td>0.000000</td>\n      <td>0.000000</td>\n      <td>0.00000</td>\n      <td>0.000000</td>\n      <td>0.000000</td>\n      <td>7359.148500</td>\n      <td>4.864821e+06</td>\n      <td>0.000000</td>\n    </tr>\n    <tr>\n      <th>50%</th>\n      <td>0.000000</td>\n      <td>0.000000</td>\n      <td>0.000000</td>\n      <td>0.000000</td>\n      <td>0.000000</td>\n      <td>0.000000</td>\n      <td>0.000000</td>\n      <td>0.000000</td>\n      <td>0.000000</td>\n      <td>0.000000</td>\n      <td>...</td>\n      <td>0.00000</td>\n      <td>0.000000</td>\n      <td>0.000000</td>\n      <td>0.000000</td>\n      <td>0.00000</td>\n      <td>0.000000</td>\n      <td>0.000000</td>\n      <td>7423.060900</td>\n      <td>4.864852e+06</td>\n      <td>1.000000</td>\n    </tr>\n    <tr>\n      <th>75%</th>\n      <td>0.000000</td>\n      <td>0.000000</td>\n      <td>0.000000</td>\n      <td>0.000000</td>\n      <td>0.000000</td>\n      <td>0.000000</td>\n      <td>0.000000</td>\n      <td>0.000000</td>\n      <td>0.000000</td>\n      <td>0.000000</td>\n      <td>...</td>\n      <td>0.00000</td>\n      <td>0.000000</td>\n      <td>0.000000</td>\n      <td>0.000000</td>\n      <td>0.00000</td>\n      <td>0.000000</td>\n      <td>0.000000</td>\n      <td>7594.264100</td>\n      <td>4.864930e+06</td>\n      <td>2.000000</td>\n    </tr>\n    <tr>\n      <th>max</th>\n      <td>105.000000</td>\n      <td>105.000000</td>\n      <td>105.000000</td>\n      <td>105.000000</td>\n      <td>105.000000</td>\n      <td>105.000000</td>\n      <td>105.000000</td>\n      <td>105.000000</td>\n      <td>105.000000</td>\n      <td>105.000000</td>\n      <td>...</td>\n      <td>105.00000</td>\n      <td>105.000000</td>\n      <td>105.000000</td>\n      <td>105.000000</td>\n      <td>105.00000</td>\n      <td>105.000000</td>\n      <td>105.000000</td>\n      <td>7691.338400</td>\n      <td>4.865017e+06</td>\n      <td>2.000000</td>\n    </tr>\n  </tbody>\n</table>\n<p>8 rows × 523 columns</p>\n</div>",
            "text/plain": "             WAP001        WAP002        WAP003        WAP004        WAP005  \\\ncount  19159.000000  19159.000000  19159.000000  19159.000000  19159.000000   \nmean       0.951720      0.965082      1.145415      1.150895      0.979644   \nstd        9.907839      9.945870     10.907006     10.932780      9.975353   \nmin        0.000000      0.000000      0.000000      0.000000      0.000000   \n25%        0.000000      0.000000      0.000000      0.000000      0.000000   \n50%        0.000000      0.000000      0.000000      0.000000      0.000000   \n75%        0.000000      0.000000      0.000000      0.000000      0.000000   \nmax      105.000000    105.000000    105.000000    105.000000    105.000000   \n\n             WAP006        WAP007        WAP008        WAP009        WAP010  \\\ncount  19159.000000  19159.000000  19159.000000  19159.000000  19159.000000   \nmean       1.396263      1.750822      1.821859      1.907198      1.182891   \nstd       10.995386     11.424759     11.274403     11.739711     10.859246   \nmin        0.000000      0.000000      0.000000      0.000000      0.000000   \n25%        0.000000      0.000000      0.000000      0.000000      0.000000   \n50%        0.000000      0.000000      0.000000      0.000000      0.000000   \n75%        0.000000      0.000000      0.000000      0.000000      0.000000   \nmax      105.000000    105.000000    105.000000    105.000000    105.000000   \n\n           ...            WAP514        WAP515        WAP516        WAP517  \\\ncount      ...       19159.00000  19159.000000  19159.000000  19159.000000   \nmean       ...           1.13889      1.103868      5.919202      7.535832   \nstd        ...          10.38636     10.499751     16.221807     16.427428   \nmin        ...           0.00000      0.000000      0.000000      0.000000   \n25%        ...           0.00000      0.000000      0.000000      0.000000   \n50%        ...           0.00000      0.000000      0.000000      0.000000   \n75%        ...           0.00000      0.000000      0.000000      0.000000   \nmax        ...         105.00000    105.000000    105.000000    105.000000   \n\n            WAP518        WAP519        WAP520     LONGITUDE      LATITUDE  \\\ncount  19159.00000  19159.000000  19159.000000  19159.000000  1.915900e+04   \nmean       1.15340      1.048176      1.161856   7464.202052  4.864871e+06   \nstd       10.88876     10.432185     10.984137    123.311468  6.696052e+01   \nmin        0.00000      0.000000      0.000000   7300.818990  4.864746e+06   \n25%        0.00000      0.000000      0.000000   7359.148500  4.864821e+06   \n50%        0.00000      0.000000      0.000000   7423.060900  4.864852e+06   \n75%        0.00000      0.000000      0.000000   7594.264100  4.864930e+06   \nmax      105.00000    105.000000    105.000000   7691.338400  4.865017e+06   \n\n         BUILDINGID  \ncount  19159.000000  \nmean       1.213581  \nstd        0.832702  \nmin        0.000000  \n25%        0.000000  \n50%        1.000000  \n75%        2.000000  \nmax        2.000000  \n\n[8 rows x 523 columns]"
          },
          "metadata": {}
        }
      ]
    },
    {
      "metadata": {
        "trusted": true
      },
      "cell_type": "code",
      "source": "\nmin_LGT = 7300.818990\nmin_LAT = 4.864746e+06\n\ndf.iloc[:,520] = (df.iloc[:, 520] - min_LGT + 1)\ndf.iloc[:,521] = (df.iloc[:, 521] - min_LAT + 1)\n",
      "execution_count": 18,
      "outputs": []
    },
    {
      "metadata": {
        "trusted": true
      },
      "cell_type": "code",
      "source": "def preprocess_data(df):\n    \n    # split the data set into features and targets(Floor and BuildingID)\n    X1 = df.drop(['LONGITUDE', 'LATITUDE', 'BUILDINGID','FLOOR'], axis=1)\n    y1 = df[[ 'BUILDINGID']]\n    \n    X2 = df.drop(['LONGITUDE', 'LATITUDE','FLOOR'], axis=1)\n    y2 = df[['FLOOR']]\n    \n    \n    X3 = df.drop(['LONGITUDE', 'LATITUDE','FLOOR'], axis=1)\n    y3 = df[[ 'LONGITUDE', 'LATITUDE']]\n    \n    #create Dummies for the targets to feed into the model\n    y1 = pd.get_dummies(data=y1, columns=[ 'BUILDINGID'])\n    y2 = pd.get_dummies(data=y2, columns=[ 'FLOOR']) \n    X3 = pd.get_dummies(data=X3, columns=['BUILDINGID']) \n    \n    return X1, y1, X2, y2, X3, y3",
      "execution_count": 19,
      "outputs": []
    },
    {
      "metadata": {
        "trusted": true
      },
      "cell_type": "code",
      "source": "def split_data(X, y):\n    \n    X_train, X_test, y_train, y_test = train_test_split(X, \n                                                        y, \n                                                        test_size =  0.1, \n                                                        random_state = 42,\n                                                        shuffle=True)\n\n    # Show the results of the split\n    print(\"Training set has {} samples.\".format(X_train.shape[0]))\n    print(\"Testing set has {} samples.\".format(X_test.shape[0]))\n    return X_train, X_test, y_train, y_test",
      "execution_count": 20,
      "outputs": []
    },
    {
      "metadata": {
        "trusted": true
      },
      "cell_type": "code",
      "source": "X1, y1, X2, y2, X3, y3 = preprocess_data(df)\nX_train1, X_test1, y_train1, y_test1 = split_data(X1,y1)\nX_train2, X_test2, y_train2, y_test2 = split_data(X2,y2)\nX_train3, X_test3, y_train3, y_test3 = split_data(X3,y3)",
      "execution_count": 21,
      "outputs": [
        {
          "output_type": "stream",
          "text": "Training set has 17243 samples.\nTesting set has 1916 samples.\nTraining set has 17243 samples.\nTesting set has 1916 samples.\nTraining set has 17243 samples.\nTesting set has 1916 samples.\n",
          "name": "stdout"
        }
      ]
    },
    {
      "metadata": {
        "trusted": true
      },
      "cell_type": "code",
      "source": "#Scale Data with Standard Scaler\n\nscaler1 = StandardScaler()\nscaler1.fit(X_train1)\n    \n# Apply transform to both the training set and the test set.\nX_train1 = scaler1.transform(X_train1)\nX_test1 = scaler1.transform(X_test1)\n\nscaler2 = StandardScaler()\nscaler2.fit(X_train2)\n    \n# Apply transform to both the training set and the test set.\nX_train2 = scaler2.transform(X_train2)\nX_test2 = scaler2.transform(X_test2)\n\nscaler3 = StandardScaler()\nscaler3.fit(X_train3)\n    \n# Apply transform to both the training set and the test set.\nX_train3 = scaler3.transform(X_train3)\nX_test3 = scaler3.transform(X_test3)\n",
      "execution_count": 22,
      "outputs": []
    },
    {
      "metadata": {
        "trusted": true
      },
      "cell_type": "code",
      "source": "y_train1 = lil_matrix(y_train1).toarray()\ny_test1 = lil_matrix(y_test1).toarray()\ny_train2 = lil_matrix(y_train2).toarray()\ny_test2 = lil_matrix(y_test2).toarray()\ny_train3 = lil_matrix(y_train3).toarray()\ny_test3 = lil_matrix(y_test3).toarray()",
      "execution_count": 23,
      "outputs": []
    },
    {
      "metadata": {},
      "cell_type": "markdown",
      "source": "# Model Training "
    },
    {
      "metadata": {},
      "cell_type": "markdown",
      "source": "## Predicting buildings"
    },
    {
      "metadata": {
        "trusted": true
      },
      "cell_type": "code",
      "source": "start_time = time.time()\n\n# Define the model\nmodel_1 = Sequential()\nmodel_1.add(Dense(50, input_dim=520, activation='relu'))\nmodel_1.add(Dense(80, activation='relu'))\nmodel_1.add(Dense(50, activation='relu'))\nmodel_1.add(Dense(3, activation='softmax'))\nmodel_1.compile(loss='binary_crossentropy', optimizer='adam')\n\n# Train the model\nmodel_1.fit(\n    X_train1,\n    y_train1,\n    epochs=70,\n    shuffle=True,\n    verbose=2\n)\n\npredictions1 = np.round(model_1.predict(X_test1))\n\n# accuracy\nprint(\"Accuracy of predicting buildings = \",accuracy_score(y_test1,predictions1))\n\nprint(\"--- Run time: %s mins ---\" % np.round(((time.time() - start_time)/60),2))",
      "execution_count": 11,
      "outputs": [
        {
          "output_type": "stream",
          "text": "Epoch 1/70\n2s - loss: 0.1154\nEpoch 2/70\n2s - loss: 0.0252\nEpoch 3/70\n2s - loss: 0.0107\nEpoch 4/70\n2s - loss: 0.0046\nEpoch 5/70\n2s - loss: 0.0018\nEpoch 6/70\n1s - loss: 5.5615e-04\nEpoch 7/70\n1s - loss: 0.0042\nEpoch 8/70\n1s - loss: 0.0104\nEpoch 9/70\n1s - loss: 0.0047\nEpoch 10/70\n1s - loss: 6.5234e-04\nEpoch 11/70\n1s - loss: 1.4587e-04\nEpoch 12/70\n1s - loss: 3.3420e-05\nEpoch 13/70\n2s - loss: 2.0977e-05\nEpoch 14/70\n2s - loss: 1.4159e-05\nEpoch 15/70\n2s - loss: 9.7611e-06\nEpoch 16/70\n2s - loss: 6.9269e-06\nEpoch 17/70\n1s - loss: 4.9394e-06\nEpoch 18/70\n1s - loss: 3.5638e-06\nEpoch 19/70\n1s - loss: 2.5852e-06\nEpoch 20/70\n2s - loss: 1.8994e-06\nEpoch 21/70\n1s - loss: 1.4008e-06\nEpoch 22/70\n1s - loss: 1.0485e-06\nEpoch 23/70\n1s - loss: 7.8927e-07\nEpoch 24/70\n1s - loss: 6.0511e-07\nEpoch 25/70\n1s - loss: 4.6814e-07\nEpoch 26/70\n2s - loss: 3.6839e-07\nEpoch 27/70\n1s - loss: 2.9624e-07\nEpoch 28/70\n1s - loss: 2.4424e-07\nEpoch 29/70\n1s - loss: 2.0650e-07\nEpoch 30/70\n1s - loss: 1.7911e-07\nEpoch 31/70\n2s - loss: 1.5901e-07\nEpoch 32/70\n2s - loss: 1.4451e-07\nEpoch 33/70\n2s - loss: 1.3370e-07\nEpoch 34/70\n2s - loss: 1.2608e-07\nEpoch 35/70\n2s - loss: 1.2040e-07\nEpoch 36/70\n2s - loss: 1.1634e-07\nEpoch 37/70\n1s - loss: 1.1327e-07\nEpoch 38/70\n1s - loss: 1.1117e-07\nEpoch 39/70\n2s - loss: 1.0965e-07\nEpoch 40/70\n1s - loss: 1.0856e-07\nEpoch 41/70\n1s - loss: 1.0788e-07\nEpoch 42/70\n1s - loss: 1.0737e-07\nEpoch 43/70\n1s - loss: 1.0706e-07\nEpoch 44/70\n1s - loss: 1.0683e-07\nEpoch 45/70\n2s - loss: 1.0670e-07\nEpoch 46/70\n1s - loss: 1.0660e-07\nEpoch 47/70\n2s - loss: 1.0653e-07\nEpoch 48/70\n2s - loss: 1.0649e-07\nEpoch 49/70\n2s - loss: 1.0646e-07\nEpoch 50/70\n2s - loss: 1.0644e-07\nEpoch 51/70\n2s - loss: 1.0642e-07\nEpoch 52/70\n2s - loss: 1.0641e-07\nEpoch 53/70\n1s - loss: 1.0641e-07\nEpoch 54/70\n2s - loss: 1.0640e-07\nEpoch 55/70\n2s - loss: 1.0640e-07\nEpoch 56/70\n2s - loss: 1.0640e-07\nEpoch 57/70\n1s - loss: 1.0640e-07\nEpoch 58/70\n1s - loss: 1.0640e-07\nEpoch 59/70\n2s - loss: 1.0640e-07\nEpoch 60/70\n2s - loss: 1.0640e-07\nEpoch 61/70\n2s - loss: 1.0640e-07\nEpoch 62/70\n2s - loss: 1.0640e-07\nEpoch 63/70\n1s - loss: 1.0640e-07\nEpoch 64/70\n2s - loss: 1.0640e-07\nEpoch 65/70\n2s - loss: 1.0640e-07\nEpoch 66/70\n1s - loss: 1.0640e-07\nEpoch 67/70\n1s - loss: 1.0640e-07\nEpoch 68/70\n1s - loss: 1.0640e-07\nEpoch 69/70\n1s - loss: 1.0640e-07\nEpoch 70/70\n1s - loss: 1.0640e-07\nAccuracy of predicting buildings =  0.9686847599164927\n--- Run time: 2.4 mins ---\n",
          "name": "stdout"
        }
      ]
    },
    {
      "metadata": {},
      "cell_type": "markdown",
      "source": "## Predicting floors"
    },
    {
      "metadata": {
        "trusted": true
      },
      "cell_type": "code",
      "source": "start_time = time.time()\n\n# Define the model\nmodel_2 = Sequential()\nmodel_2.add(Dense(50, input_dim=521, activation='relu'))\nmodel_2.add(Dense(80, activation='relu'))\nmodel_2.add(Dense(50, activation='relu'))\nmodel_2.add(Dense(5, activation='softmax'))\nmodel_2.compile(loss='binary_crossentropy', optimizer='adam')\n\n# Train the model\nmodel_2.fit(\n    X_train2,\n    y_train2,\n    epochs=100,\n    shuffle=True,\n    verbose=2\n)\n\npredictions2 = np.round(model_2.predict(X_test2))\n\n# accuracy\nprint(\"Accuracy of predicting floors = \",accuracy_score(y_test2,predictions2))\n\nprint(\"--- Run time: %s mins ---\" % np.round(((time.time() - start_time)/60),2))",
      "execution_count": 12,
      "outputs": [
        {
          "output_type": "stream",
          "text": "Epoch 1/100\n1s - loss: 0.2696\nEpoch 2/100\n1s - loss: 0.1431\nEpoch 3/100\n1s - loss: 0.0946\nEpoch 4/100\n1s - loss: 0.0614\nEpoch 5/100\n1s - loss: 0.0397\nEpoch 6/100\n1s - loss: 0.0284\nEpoch 7/100\n1s - loss: 0.0207\nEpoch 8/100\n1s - loss: 0.0171\nEpoch 9/100\n1s - loss: 0.0139\nEpoch 10/100\n1s - loss: 0.0129\nEpoch 11/100\n2s - loss: 0.0119\nEpoch 12/100\n2s - loss: 0.0098\nEpoch 13/100\n2s - loss: 0.0081\nEpoch 14/100\n2s - loss: 0.0075\nEpoch 15/100\n2s - loss: 0.0066\nEpoch 16/100\n2s - loss: 0.0080\nEpoch 17/100\n3s - loss: 0.0095\nEpoch 18/100\n3s - loss: 0.0080\nEpoch 19/100\n3s - loss: 0.0080\nEpoch 20/100\n2s - loss: 0.0055\nEpoch 21/100\n2s - loss: 0.0099\nEpoch 22/100\n2s - loss: 0.0085\nEpoch 23/100\n2s - loss: 0.0043\nEpoch 24/100\n2s - loss: 0.0024\nEpoch 25/100\n2s - loss: 0.0024\nEpoch 26/100\n2s - loss: 0.0036\nEpoch 27/100\n2s - loss: 0.0140\nEpoch 28/100\n2s - loss: 0.0089\nEpoch 29/100\n2s - loss: 0.0038\nEpoch 30/100\n2s - loss: 0.0024\nEpoch 31/100\n1s - loss: 0.0015\nEpoch 32/100\n1s - loss: 0.0033\nEpoch 33/100\n1s - loss: 0.0044\nEpoch 34/100\n1s - loss: 0.0101\nEpoch 35/100\n1s - loss: 0.0071\nEpoch 36/100\n1s - loss: 0.0022\nEpoch 37/100\n1s - loss: 8.3939e-04\nEpoch 38/100\n1s - loss: 3.0062e-04\nEpoch 39/100\n1s - loss: 5.9463e-05\nEpoch 40/100\n1s - loss: 1.2904e-04\nEpoch 41/100\n1s - loss: 1.1005e-04\nEpoch 42/100\n1s - loss: 3.4561e-05\nEpoch 43/100\n1s - loss: 4.5865e-05\nEpoch 44/100\n1s - loss: 0.0226\nEpoch 45/100\n1s - loss: 0.0096\nEpoch 46/100\n2s - loss: 0.0023\nEpoch 47/100\n1s - loss: 0.0013\nEpoch 48/100\n1s - loss: 4.6877e-04\nEpoch 49/100\n1s - loss: 3.6136e-04\nEpoch 50/100\n1s - loss: 5.8500e-04\nEpoch 51/100\n1s - loss: 0.0013\nEpoch 52/100\n1s - loss: 0.0090\nEpoch 53/100\n2s - loss: 0.0081\nEpoch 54/100\n2s - loss: 0.0039\nEpoch 55/100\n1s - loss: 0.0024\nEpoch 56/100\n1s - loss: 0.0012\nEpoch 57/100\n1s - loss: 8.3168e-04\nEpoch 58/100\n1s - loss: 0.0017\nEpoch 59/100\n1s - loss: 0.0046\nEpoch 60/100\n1s - loss: 0.0041\nEpoch 61/100\n2s - loss: 0.0029\nEpoch 62/100\n1s - loss: 0.0017\nEpoch 63/100\n2s - loss: 0.0014\nEpoch 64/100\n1s - loss: 0.0024\nEpoch 65/100\n1s - loss: 0.0045\nEpoch 66/100\n1s - loss: 0.0042\nEpoch 67/100\n1s - loss: 0.0034\nEpoch 68/100\n1s - loss: 8.7957e-04\nEpoch 69/100\n1s - loss: 5.0705e-04\nEpoch 70/100\n1s - loss: 4.1333e-05\nEpoch 71/100\n1s - loss: 1.2362e-05\nEpoch 72/100\n1s - loss: 8.4723e-06\nEpoch 73/100\n1s - loss: 6.6342e-06\nEpoch 74/100\n1s - loss: 5.2279e-06\nEpoch 75/100\n2s - loss: 4.1254e-06\nEpoch 76/100\n1s - loss: 3.2955e-06\nEpoch 77/100\n1s - loss: 2.6344e-06\nEpoch 78/100\n2s - loss: 2.0977e-06\nEpoch 79/100\n2s - loss: 1.6673e-06\nEpoch 80/100\n1s - loss: 1.3175e-06\nEpoch 81/100\n1s - loss: 1.0479e-06\nEpoch 82/100\n1s - loss: 8.3178e-07\nEpoch 83/100\n1s - loss: 6.6307e-07\nEpoch 84/100\n1s - loss: 5.2852e-07\nEpoch 85/100\n1s - loss: 4.2601e-07\nEpoch 86/100\n1s - loss: 3.4530e-07\nEpoch 87/100\n1s - loss: 2.8096e-07\nEpoch 88/100\n1s - loss: 2.3184e-07\nEpoch 89/100\n1s - loss: 1.9581e-07\nEpoch 90/100\n1s - loss: 1.6972e-07\nEpoch 91/100\n1s - loss: 1.5097e-07\nEpoch 92/100\n1s - loss: 1.3780e-07\nEpoch 93/100\n1s - loss: 1.2796e-07\nEpoch 94/100\n1s - loss: 1.2113e-07\nEpoch 95/100\n1s - loss: 1.1609e-07\nEpoch 96/100\n1s - loss: 1.1237e-07\nEpoch 97/100\n1s - loss: 1.0971e-07\nEpoch 98/100\n1s - loss: 1.0788e-07\nEpoch 99/100\n1s - loss: 1.0652e-07\nEpoch 100/100\n1s - loss: 1.0560e-07\nAccuracy of predicting floors =  0.8794363256784968\n--- Run time: 3.41 mins ---\n",
          "name": "stdout"
        }
      ]
    },
    {
      "metadata": {
        "trusted": true
      },
      "cell_type": "code",
      "source": "predictions = np.hstack((predictions1, predictions2)) \ny_test = np.hstack((y_test1, y_test2))  \n# accuracy\nprint(\"Total Accuracy = \",accuracy_score(y_test,predictions))\n\nprint(\"--- Run time: %s mins ---\" % np.round(((time.time() - start_time)/60),2))",
      "execution_count": 13,
      "outputs": [
        {
          "output_type": "stream",
          "text": "Total Accuracy =  0.8596033402922756\n--- Run time: 3.41 mins ---\n",
          "name": "stdout"
        }
      ]
    },
    {
      "metadata": {},
      "cell_type": "markdown",
      "source": "## Predicting longitude and latitude"
    },
    {
      "metadata": {
        "trusted": true
      },
      "cell_type": "code",
      "source": "start_time = time.time()\n\n# Define the model\nmodel_3 = Sequential()\nmodel_3.add(Dense(50, input_dim=523, activation='relu'))\nmodel_3.add(Dense(80, activation='relu'))\nmodel_3.add(Dense(50, activation='relu'))\nmodel_3.add(Dense(2, activation='linear'))\nmodel_3.compile(loss='mean_squared_error', optimizer='adam')\n\n# Train the model\nmodel_3.fit(\n    X_train3,\n    y_train3,\n    epochs=100,\n    shuffle=True,\n    verbose=2\n)\n\npredictions3 = (model_3.predict(X_test3))\n\n# accuracy\nprint(\"RMSE of predicting LONGTITUDE = \", mean_squared_error(y_test3[:,0],predictions3[:,0])**(0.5))\nprint(\"RMSE of predicting LATITUDE = \", mean_squared_error(y_test3[:,1],predictions3[:,1])**(0.5))\n\n\nprint(\"--- Run time: %s mins ---\" % np.round(((time.time() - start_time)/60),2))",
      "execution_count": 24,
      "outputs": [
        {
          "output_type": "stream",
          "text": "Epoch 1/100\n1s - loss: 4890.1547\nEpoch 2/100\n1s - loss: 677.9568\nEpoch 3/100\n1s - loss: 413.2666\nEpoch 4/100\n1s - loss: 305.4853\nEpoch 5/100\n1s - loss: 247.4825\nEpoch 6/100\n1s - loss: 206.2158\nEpoch 7/100\n2s - loss: 177.8666\nEpoch 8/100\n1s - loss: 158.9924\nEpoch 9/100\n1s - loss: 144.6003\nEpoch 10/100\n1s - loss: 129.9483\nEpoch 11/100\n1s - loss: 120.8270\nEpoch 12/100\n1s - loss: 111.2803\nEpoch 13/100\n1s - loss: 102.1603\nEpoch 14/100\n1s - loss: 95.0603\nEpoch 15/100\n1s - loss: 89.6231\nEpoch 16/100\n1s - loss: 84.2001\nEpoch 17/100\n1s - loss: 80.5839\nEpoch 18/100\n1s - loss: 77.3686\nEpoch 19/100\n1s - loss: 72.7160\nEpoch 20/100\n1s - loss: 69.2387\nEpoch 21/100\n1s - loss: 67.0740\nEpoch 22/100\n1s - loss: 64.6244\nEpoch 23/100\n1s - loss: 63.5106\nEpoch 24/100\n1s - loss: 60.4678\nEpoch 25/100\n1s - loss: 58.7425\nEpoch 26/100\n1s - loss: 55.5861\nEpoch 27/100\n1s - loss: 54.2645\nEpoch 28/100\n1s - loss: 52.4753\nEpoch 29/100\n1s - loss: 53.4318\nEpoch 30/100\n1s - loss: 51.9022\nEpoch 31/100\n1s - loss: 49.8759\nEpoch 32/100\n1s - loss: 48.6623\nEpoch 33/100\n1s - loss: 47.8786\nEpoch 34/100\n1s - loss: 45.7351\nEpoch 35/100\n1s - loss: 45.2072\nEpoch 36/100\n1s - loss: 44.9014\nEpoch 37/100\n1s - loss: 43.9818\nEpoch 38/100\n1s - loss: 43.1386\nEpoch 39/100\n1s - loss: 42.6038\nEpoch 40/100\n1s - loss: 41.3955\nEpoch 41/100\n1s - loss: 40.4875\nEpoch 42/100\n2s - loss: 39.0049\nEpoch 43/100\n1s - loss: 38.5501\nEpoch 44/100\n1s - loss: 39.5552\nEpoch 45/100\n1s - loss: 37.5751\nEpoch 46/100\n1s - loss: 38.1944\nEpoch 47/100\n1s - loss: 36.8126\nEpoch 48/100\n1s - loss: 36.6894\nEpoch 49/100\n1s - loss: 35.2961\nEpoch 50/100\n1s - loss: 34.2586\nEpoch 51/100\n1s - loss: 34.8344\nEpoch 52/100\n1s - loss: 34.0305\nEpoch 53/100\n2s - loss: 34.1004\nEpoch 54/100\n1s - loss: 33.5262\nEpoch 55/100\n1s - loss: 33.7085\nEpoch 56/100\n1s - loss: 31.9281\nEpoch 57/100\n1s - loss: 31.7290\nEpoch 58/100\n1s - loss: 31.1803\nEpoch 59/100\n1s - loss: 32.1417\nEpoch 60/100\n1s - loss: 31.2939\nEpoch 61/100\n1s - loss: 29.2212\nEpoch 62/100\n1s - loss: 29.9027\nEpoch 63/100\n1s - loss: 29.7551\nEpoch 64/100\n1s - loss: 29.3344\nEpoch 65/100\n1s - loss: 29.3770\nEpoch 66/100\n2s - loss: 28.5512\nEpoch 67/100\n1s - loss: 28.8265\nEpoch 68/100\n1s - loss: 28.3018\nEpoch 69/100\n1s - loss: 30.2681\nEpoch 70/100\n1s - loss: 26.8064\nEpoch 71/100\n1s - loss: 27.5007\nEpoch 72/100\n1s - loss: 26.8709\nEpoch 73/100\n1s - loss: 26.5877\nEpoch 74/100\n1s - loss: 26.3423\nEpoch 75/100\n2s - loss: 27.0529\nEpoch 76/100\n1s - loss: 26.2360\nEpoch 77/100\n1s - loss: 25.3063\nEpoch 78/100\n1s - loss: 25.1346\nEpoch 79/100\n1s - loss: 25.5375\nEpoch 80/100\n1s - loss: 25.2077\nEpoch 81/100\n1s - loss: 25.0400\nEpoch 82/100\n1s - loss: 24.9955\nEpoch 83/100\n1s - loss: 24.1170\nEpoch 84/100\n1s - loss: 25.3517\nEpoch 85/100\n1s - loss: 24.1454\nEpoch 86/100\n1s - loss: 23.6309\nEpoch 87/100\n2s - loss: 23.3506\nEpoch 88/100\n1s - loss: 23.9384\nEpoch 89/100\n1s - loss: 23.3364\nEpoch 90/100\n1s - loss: 22.6042\nEpoch 91/100\n1s - loss: 23.0436\nEpoch 92/100\n1s - loss: 22.7597\nEpoch 93/100\n1s - loss: 23.0039\nEpoch 94/100\n1s - loss: 22.6572\nEpoch 95/100\n1s - loss: 22.9006\nEpoch 96/100\n1s - loss: 22.2715\nEpoch 97/100\n2s - loss: 21.2675\nEpoch 98/100\n1s - loss: 21.2572\nEpoch 99/100\n1s - loss: 22.1594\nEpoch 100/100\n1s - loss: 21.4283\nRMSE of predicting LONGTITUDE =  19.33897585573457\nRMSE of predicting LATITUDE =  15.305406136427894\n--- Run time: 2.95 mins ---\n",
          "name": "stdout"
        }
      ]
    },
    {
      "metadata": {
        "trusted": true
      },
      "cell_type": "code",
      "source": "",
      "execution_count": null,
      "outputs": []
    }
  ],
  "metadata": {
    "kernelspec": {
      "name": "python3",
      "display_name": "Python 3",
      "language": "python"
    },
    "language_info": {
      "mimetype": "text/x-python",
      "nbconvert_exporter": "python",
      "name": "python",
      "pygments_lexer": "ipython3",
      "version": "3.5.4",
      "file_extension": ".py",
      "codemirror_mode": {
        "version": 3,
        "name": "ipython"
      }
    }
  },
  "nbformat": 4,
  "nbformat_minor": 2
}