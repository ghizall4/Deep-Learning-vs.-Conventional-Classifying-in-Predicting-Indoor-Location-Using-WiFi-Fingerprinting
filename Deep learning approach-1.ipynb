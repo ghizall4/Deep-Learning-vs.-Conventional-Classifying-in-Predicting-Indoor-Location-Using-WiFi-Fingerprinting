{
  "cells": [
    {
      "metadata": {},
      "cell_type": "markdown",
      "source": "# Deep Learning for Predicting Indoor Location Using WiFi Fingerprinting\nHa Vu Tran"
    },
    {
      "metadata": {
        "trusted": true
      },
      "cell_type": "code",
      "source": "# necessary Libraries\nimport numpy as np\nimport pandas as pd\nimport time\nimport pprint\n\n#Visualizations\nimport matplotlib.pyplot as plt\nimport seaborn as sns\n\n\n#Preprocessing\nfrom sklearn import preprocessing\nfrom sklearn.model_selection import train_test_split\nfrom sklearn.preprocessing import StandardScaler\nfrom sklearn.decomposition import PCA \nfrom scipy.sparse import lil_matrix\n\n#Scoring Metrics\nfrom sklearn.metrics import accuracy_score\nfrom sklearn.metrics import mean_squared_error\nfrom sklearn.metrics import mean_absolute_error\n\n\n\nimport tensorflow as tf\nfrom keras.models import Sequential\nfrom keras.layers import *",
      "execution_count": 1,
      "outputs": [
        {
          "output_type": "stream",
          "text": "/home/nbuser/anaconda3_420/lib/python3.5/site-packages/h5py/__init__.py:36: FutureWarning: Conversion of the second argument of issubdtype from `float` to `np.floating` is deprecated. In future, it will be treated as `np.float64 == np.dtype(float).type`.\n  from ._conv import register_converters as _register_converters\nUsing TensorFlow backend.\n",
          "name": "stderr"
        }
      ]
    },
    {
      "metadata": {},
      "cell_type": "markdown",
      "source": "# Preprocess Data"
    },
    {
      "metadata": {
        "trusted": true
      },
      "cell_type": "code",
      "source": "df = pd.read_csv(\"challenge1.csv\")\n\n#df.head(10)",
      "execution_count": 2,
      "outputs": []
    },
    {
      "metadata": {
        "trusted": true
      },
      "cell_type": "code",
      "source": "#df.describe()",
      "execution_count": 3,
      "outputs": []
    },
    {
      "metadata": {
        "trusted": true
      },
      "cell_type": "code",
      "source": "\n#Drop unneeded data\ndf.drop(['Unnamed: 0', 'USERID', 'PHONEID', 'TIMESTAMP'], axis = 1, inplace=True)\n\n#Remove \"NaN\" value\ncol = df.columns[0:520]\nfor i in col:\n    df[i].fillna(0, inplace=True)\ndf.dropna(subset=['LONGITUDE','LATITUDE', 'FLOOR', 'BUILDINGID' ], inplace=True)\n#trainingData.isnull().sum()\n\n\n\n#Process \"WAP\" data\ndf.iloc[:, 0:520] = np.where(df.iloc[:, 0:520] <= 0, \n                        df.iloc[:, 0:520] + 105, \n                        df.iloc[:, 0:520] - 100)\n\n#Process Longtitude\ndf.iloc[:, 520] = np.where(df.iloc[:, 520] <= 0, \n                        -df.iloc[:, 520], \n                        df.iloc[:, 520])\n\n\ndf.describe()",
      "execution_count": 4,
      "outputs": [
        {
          "output_type": "execute_result",
          "execution_count": 4,
          "data": {
            "text/html": "<div>\n<table border=\"1\" class=\"dataframe\">\n  <thead>\n    <tr style=\"text-align: right;\">\n      <th></th>\n      <th>WAP001</th>\n      <th>WAP002</th>\n      <th>WAP003</th>\n      <th>WAP004</th>\n      <th>WAP005</th>\n      <th>WAP006</th>\n      <th>WAP007</th>\n      <th>WAP008</th>\n      <th>WAP009</th>\n      <th>WAP010</th>\n      <th>...</th>\n      <th>WAP514</th>\n      <th>WAP515</th>\n      <th>WAP516</th>\n      <th>WAP517</th>\n      <th>WAP518</th>\n      <th>WAP519</th>\n      <th>WAP520</th>\n      <th>LONGITUDE</th>\n      <th>LATITUDE</th>\n      <th>BUILDINGID</th>\n    </tr>\n  </thead>\n  <tbody>\n    <tr>\n      <th>count</th>\n      <td>19159.000000</td>\n      <td>19159.000000</td>\n      <td>19159.000000</td>\n      <td>19159.000000</td>\n      <td>19159.000000</td>\n      <td>19159.000000</td>\n      <td>19159.000000</td>\n      <td>19159.000000</td>\n      <td>19159.000000</td>\n      <td>19159.000000</td>\n      <td>...</td>\n      <td>19159.00000</td>\n      <td>19159.000000</td>\n      <td>19159.000000</td>\n      <td>19159.000000</td>\n      <td>19159.00000</td>\n      <td>19159.000000</td>\n      <td>19159.000000</td>\n      <td>19159.000000</td>\n      <td>1.915900e+04</td>\n      <td>19159.000000</td>\n    </tr>\n    <tr>\n      <th>mean</th>\n      <td>0.951720</td>\n      <td>0.965082</td>\n      <td>1.145415</td>\n      <td>1.150895</td>\n      <td>0.979644</td>\n      <td>1.396263</td>\n      <td>1.750822</td>\n      <td>1.821859</td>\n      <td>1.907198</td>\n      <td>1.182891</td>\n      <td>...</td>\n      <td>1.13889</td>\n      <td>1.103868</td>\n      <td>5.919202</td>\n      <td>7.535832</td>\n      <td>1.15340</td>\n      <td>1.048176</td>\n      <td>1.161856</td>\n      <td>7464.202052</td>\n      <td>4.864871e+06</td>\n      <td>1.213581</td>\n    </tr>\n    <tr>\n      <th>std</th>\n      <td>9.907839</td>\n      <td>9.945870</td>\n      <td>10.907006</td>\n      <td>10.932780</td>\n      <td>9.975353</td>\n      <td>10.995386</td>\n      <td>11.424759</td>\n      <td>11.274403</td>\n      <td>11.739711</td>\n      <td>10.859246</td>\n      <td>...</td>\n      <td>10.38636</td>\n      <td>10.499751</td>\n      <td>16.221807</td>\n      <td>16.427428</td>\n      <td>10.88876</td>\n      <td>10.432185</td>\n      <td>10.984137</td>\n      <td>123.311468</td>\n      <td>6.696052e+01</td>\n      <td>0.832702</td>\n    </tr>\n    <tr>\n      <th>min</th>\n      <td>0.000000</td>\n      <td>0.000000</td>\n      <td>0.000000</td>\n      <td>0.000000</td>\n      <td>0.000000</td>\n      <td>0.000000</td>\n      <td>0.000000</td>\n      <td>0.000000</td>\n      <td>0.000000</td>\n      <td>0.000000</td>\n      <td>...</td>\n      <td>0.00000</td>\n      <td>0.000000</td>\n      <td>0.000000</td>\n      <td>0.000000</td>\n      <td>0.00000</td>\n      <td>0.000000</td>\n      <td>0.000000</td>\n      <td>7300.818990</td>\n      <td>4.864746e+06</td>\n      <td>0.000000</td>\n    </tr>\n    <tr>\n      <th>25%</th>\n      <td>0.000000</td>\n      <td>0.000000</td>\n      <td>0.000000</td>\n      <td>0.000000</td>\n      <td>0.000000</td>\n      <td>0.000000</td>\n      <td>0.000000</td>\n      <td>0.000000</td>\n      <td>0.000000</td>\n      <td>0.000000</td>\n      <td>...</td>\n      <td>0.00000</td>\n      <td>0.000000</td>\n      <td>0.000000</td>\n      <td>0.000000</td>\n      <td>0.00000</td>\n      <td>0.000000</td>\n      <td>0.000000</td>\n      <td>7359.148500</td>\n      <td>4.864821e+06</td>\n      <td>0.000000</td>\n    </tr>\n    <tr>\n      <th>50%</th>\n      <td>0.000000</td>\n      <td>0.000000</td>\n      <td>0.000000</td>\n      <td>0.000000</td>\n      <td>0.000000</td>\n      <td>0.000000</td>\n      <td>0.000000</td>\n      <td>0.000000</td>\n      <td>0.000000</td>\n      <td>0.000000</td>\n      <td>...</td>\n      <td>0.00000</td>\n      <td>0.000000</td>\n      <td>0.000000</td>\n      <td>0.000000</td>\n      <td>0.00000</td>\n      <td>0.000000</td>\n      <td>0.000000</td>\n      <td>7423.060900</td>\n      <td>4.864852e+06</td>\n      <td>1.000000</td>\n    </tr>\n    <tr>\n      <th>75%</th>\n      <td>0.000000</td>\n      <td>0.000000</td>\n      <td>0.000000</td>\n      <td>0.000000</td>\n      <td>0.000000</td>\n      <td>0.000000</td>\n      <td>0.000000</td>\n      <td>0.000000</td>\n      <td>0.000000</td>\n      <td>0.000000</td>\n      <td>...</td>\n      <td>0.00000</td>\n      <td>0.000000</td>\n      <td>0.000000</td>\n      <td>0.000000</td>\n      <td>0.00000</td>\n      <td>0.000000</td>\n      <td>0.000000</td>\n      <td>7594.264100</td>\n      <td>4.864930e+06</td>\n      <td>2.000000</td>\n    </tr>\n    <tr>\n      <th>max</th>\n      <td>105.000000</td>\n      <td>105.000000</td>\n      <td>105.000000</td>\n      <td>105.000000</td>\n      <td>105.000000</td>\n      <td>105.000000</td>\n      <td>105.000000</td>\n      <td>105.000000</td>\n      <td>105.000000</td>\n      <td>105.000000</td>\n      <td>...</td>\n      <td>105.00000</td>\n      <td>105.000000</td>\n      <td>105.000000</td>\n      <td>105.000000</td>\n      <td>105.00000</td>\n      <td>105.000000</td>\n      <td>105.000000</td>\n      <td>7691.338400</td>\n      <td>4.865017e+06</td>\n      <td>2.000000</td>\n    </tr>\n  </tbody>\n</table>\n<p>8 rows × 523 columns</p>\n</div>",
            "text/plain": "             WAP001        WAP002        WAP003        WAP004        WAP005  \\\ncount  19159.000000  19159.000000  19159.000000  19159.000000  19159.000000   \nmean       0.951720      0.965082      1.145415      1.150895      0.979644   \nstd        9.907839      9.945870     10.907006     10.932780      9.975353   \nmin        0.000000      0.000000      0.000000      0.000000      0.000000   \n25%        0.000000      0.000000      0.000000      0.000000      0.000000   \n50%        0.000000      0.000000      0.000000      0.000000      0.000000   \n75%        0.000000      0.000000      0.000000      0.000000      0.000000   \nmax      105.000000    105.000000    105.000000    105.000000    105.000000   \n\n             WAP006        WAP007        WAP008        WAP009        WAP010  \\\ncount  19159.000000  19159.000000  19159.000000  19159.000000  19159.000000   \nmean       1.396263      1.750822      1.821859      1.907198      1.182891   \nstd       10.995386     11.424759     11.274403     11.739711     10.859246   \nmin        0.000000      0.000000      0.000000      0.000000      0.000000   \n25%        0.000000      0.000000      0.000000      0.000000      0.000000   \n50%        0.000000      0.000000      0.000000      0.000000      0.000000   \n75%        0.000000      0.000000      0.000000      0.000000      0.000000   \nmax      105.000000    105.000000    105.000000    105.000000    105.000000   \n\n           ...            WAP514        WAP515        WAP516        WAP517  \\\ncount      ...       19159.00000  19159.000000  19159.000000  19159.000000   \nmean       ...           1.13889      1.103868      5.919202      7.535832   \nstd        ...          10.38636     10.499751     16.221807     16.427428   \nmin        ...           0.00000      0.000000      0.000000      0.000000   \n25%        ...           0.00000      0.000000      0.000000      0.000000   \n50%        ...           0.00000      0.000000      0.000000      0.000000   \n75%        ...           0.00000      0.000000      0.000000      0.000000   \nmax        ...         105.00000    105.000000    105.000000    105.000000   \n\n            WAP518        WAP519        WAP520     LONGITUDE      LATITUDE  \\\ncount  19159.00000  19159.000000  19159.000000  19159.000000  1.915900e+04   \nmean       1.15340      1.048176      1.161856   7464.202052  4.864871e+06   \nstd       10.88876     10.432185     10.984137    123.311468  6.696052e+01   \nmin        0.00000      0.000000      0.000000   7300.818990  4.864746e+06   \n25%        0.00000      0.000000      0.000000   7359.148500  4.864821e+06   \n50%        0.00000      0.000000      0.000000   7423.060900  4.864852e+06   \n75%        0.00000      0.000000      0.000000   7594.264100  4.864930e+06   \nmax      105.00000    105.000000    105.000000   7691.338400  4.865017e+06   \n\n         BUILDINGID  \ncount  19159.000000  \nmean       1.213581  \nstd        0.832702  \nmin        0.000000  \n25%        0.000000  \n50%        1.000000  \n75%        2.000000  \nmax        2.000000  \n\n[8 rows x 523 columns]"
          },
          "metadata": {}
        }
      ]
    },
    {
      "metadata": {
        "trusted": true
      },
      "cell_type": "code",
      "source": "\nmin_LGT = 7300.818990\nmin_LAT = 4.864746e+06\n\ndf.iloc[:,520] = (df.iloc[:, 520] - min_LGT + 1)\ndf.iloc[:,521] = (df.iloc[:, 521] - min_LAT + 1)\n",
      "execution_count": 5,
      "outputs": []
    },
    {
      "metadata": {
        "trusted": true
      },
      "cell_type": "code",
      "source": "def preprocess_data(df):\n    \n    # split the data set into features and targets(Floor and BuildingID)\n    X1 = df.drop(['LONGITUDE', 'LATITUDE', 'BUILDINGID','FLOOR'], axis=1)\n    y1 = df[[ 'BUILDINGID']]\n    \n    X2 = df.drop(['LONGITUDE', 'LATITUDE','FLOOR'], axis=1)\n    y2 = df[['FLOOR']]\n    \n    \n    X3 = df.drop(['LONGITUDE', 'LATITUDE','FLOOR'], axis=1)\n    y3 = df[[ 'LONGITUDE', 'LATITUDE']]\n    \n    #create Dummies for the targets to feed into the model\n    y1 = pd.get_dummies(data=y1, columns=[ 'BUILDINGID'])\n    y2 = pd.get_dummies(data=y2, columns=[ 'FLOOR']) \n    X3 = pd.get_dummies(data=X3, columns=['BUILDINGID']) \n    \n    return X1, y1, X2, y2, X3, y3",
      "execution_count": 6,
      "outputs": []
    },
    {
      "metadata": {
        "trusted": true
      },
      "cell_type": "code",
      "source": "X1, y1, X2, y2, X3, y3 = preprocess_data(df)",
      "execution_count": 7,
      "outputs": []
    },
    {
      "metadata": {
        "trusted": true
      },
      "cell_type": "code",
      "source": "#Scale Data with Standard Scaler\n\nscaler1 = StandardScaler()\nscaler1.fit(X1)    \nX1 = scaler1.transform(X1)\n\nscaler2 = StandardScaler()\nscaler2.fit(X2)\nX2 = scaler2.transform(X2)\n\nscaler3 = StandardScaler()\nscaler3.fit(X3)\nX3 = scaler3.transform(X3)\n",
      "execution_count": 8,
      "outputs": []
    },
    {
      "metadata": {
        "trusted": true
      },
      "cell_type": "code",
      "source": "y1 = lil_matrix(y1).toarray()\ny2 = lil_matrix(y2).toarray()\ny3 = lil_matrix(y3).toarray()",
      "execution_count": 9,
      "outputs": []
    },
    {
      "metadata": {},
      "cell_type": "markdown",
      "source": "# Model Training "
    },
    {
      "metadata": {},
      "cell_type": "markdown",
      "source": "## Predicting buildings"
    },
    {
      "metadata": {
        "trusted": true
      },
      "cell_type": "code",
      "source": "start_time = time.time()\n\n# Define the model\nmodel_1 = Sequential()\nmodel_1.add(Dense(150, input_dim=520, activation='relu'))\nmodel_1.add(BatchNormalization())\nmodel_1.add(Dropout(0.2))\nmodel_1.add(Dense(150, activation='relu'))\nmodel_1.add(BatchNormalization())\nmodel_1.add(Dropout(0.2))\nmodel_1.add(Dense(50, activation='relu'))\nmodel_1.add(BatchNormalization())\nmodel_1.add(Dense(3, activation='softmax'))\nmodel_1.compile(loss='binary_crossentropy', optimizer='adam')\n\n\n# Train the model\nmodel_1.fit(\n    X1,\n    y1,\n    batch_size=1000,\n    validation_split = 0.4,\n    epochs=10,\n    shuffle=True,\n    verbose=2\n)\n\npredictions1 = np.round(model_1.predict(X1))\n\n# accuracy\nprint(\"Accuracy of predicting buildings = \",accuracy_score(y1,predictions1))\n\nprint(\"--- Run time: %s mins ---\" % np.round(((time.time() - start_time)/60),2))",
      "execution_count": 10,
      "outputs": [
        {
          "output_type": "stream",
          "text": "Train on 11495 samples, validate on 7664 samples\nEpoch 1/10\n1s - loss: 0.5720 - val_loss: 0.3406\nEpoch 2/10\n1s - loss: 0.2292 - val_loss: 0.1776\nEpoch 3/10\n1s - loss: 0.1150 - val_loss: 0.1114\nEpoch 4/10\n1s - loss: 0.0762 - val_loss: 0.0867\nEpoch 5/10\n1s - loss: 0.0557 - val_loss: 0.0761\nEpoch 6/10\n1s - loss: 0.0467 - val_loss: 0.0699\nEpoch 7/10\n1s - loss: 0.0371 - val_loss: 0.0661\nEpoch 8/10\n1s - loss: 0.0312 - val_loss: 0.0641\nEpoch 9/10\n1s - loss: 0.0254 - val_loss: 0.0628\nEpoch 10/10\n1s - loss: 0.0215 - val_loss: 0.0626\nAccuracy of predicting buildings =  0.9851766793673992\n--- Run time: 0.29 mins ---\n",
          "name": "stdout"
        }
      ]
    },
    {
      "metadata": {},
      "cell_type": "markdown",
      "source": "## Predicting floors"
    },
    {
      "metadata": {
        "trusted": true
      },
      "cell_type": "code",
      "source": "start_time = time.time()\n\n# Define the model\nmodel_2 = Sequential()\nmodel_2.add(Dense(150, input_dim=521, activation='relu'))\nmodel_2.add(BatchNormalization())\nmodel_2.add(Dropout(0.2))\nmodel_2.add(Dense(150, activation='relu'))\nmodel_2.add(BatchNormalization())\nmodel_2.add(Dropout(0.2))\nmodel_2.add(Dense(50, activation='relu'))\nmodel_2.add(BatchNormalization())\nmodel_2.add(Dense(5, activation='softmax'))\nmodel_2.compile(loss='binary_crossentropy', optimizer='adam')\n\n# Train the model\nmodel_2.fit(\n    X2,\n    y2,\n    batch_size=1000,\n    validation_split = 0.4,\n    epochs=40,\n    shuffle=True,\n    verbose=2\n)\n\n\npredictions2 = np.round(model_2.predict(X2))\n\n# accuracy\nprint(\"Accuracy of predicting floors = \",accuracy_score(y2,predictions2))\n\nprint(\"--- Run time: %s mins ---\" % np.round(((time.time() - start_time)/60),2))",
      "execution_count": 11,
      "outputs": [
        {
          "output_type": "stream",
          "text": "Train on 11495 samples, validate on 7664 samples\nEpoch 1/40\n1s - loss: 0.5606 - val_loss: 0.5039\nEpoch 2/40\n1s - loss: 0.4128 - val_loss: 0.4618\nEpoch 3/40\n1s - loss: 0.3367 - val_loss: 0.4226\nEpoch 4/40\n1s - loss: 0.2800 - val_loss: 0.3890\nEpoch 5/40\n1s - loss: 0.2344 - val_loss: 0.3566\nEpoch 6/40\n1s - loss: 0.2014 - val_loss: 0.3380\nEpoch 7/40\n1s - loss: 0.1729 - val_loss: 0.3249\nEpoch 8/40\n1s - loss: 0.1562 - val_loss: 0.3177\nEpoch 9/40\n1s - loss: 0.1391 - val_loss: 0.3171\nEpoch 10/40\n1s - loss: 0.1250 - val_loss: 0.3165\nEpoch 11/40\n1s - loss: 0.1094 - val_loss: 0.3226\nEpoch 12/40\n1s - loss: 0.1010 - val_loss: 0.3271\nEpoch 13/40\n1s - loss: 0.0910 - val_loss: 0.3336\nEpoch 14/40\n1s - loss: 0.0820 - val_loss: 0.3359\nEpoch 15/40\n1s - loss: 0.0713 - val_loss: 0.3436\nEpoch 16/40\n1s - loss: 0.0666 - val_loss: 0.3582\nEpoch 17/40\n1s - loss: 0.0606 - val_loss: 0.3647\nEpoch 18/40\n1s - loss: 0.0537 - val_loss: 0.3703\nEpoch 19/40\n1s - loss: 0.0489 - val_loss: 0.3825\nEpoch 20/40\n1s - loss: 0.0438 - val_loss: 0.3966\nEpoch 21/40\n1s - loss: 0.0399 - val_loss: 0.4110\nEpoch 22/40\n1s - loss: 0.0375 - val_loss: 0.4142\nEpoch 23/40\n1s - loss: 0.0342 - val_loss: 0.4215\nEpoch 24/40\n1s - loss: 0.0309 - val_loss: 0.4229\nEpoch 25/40\n1s - loss: 0.0280 - val_loss: 0.4333\nEpoch 26/40\n1s - loss: 0.0258 - val_loss: 0.4457\nEpoch 27/40\n1s - loss: 0.0249 - val_loss: 0.4495\nEpoch 28/40\n1s - loss: 0.0230 - val_loss: 0.4603\nEpoch 29/40\n1s - loss: 0.0222 - val_loss: 0.4721\nEpoch 30/40\n1s - loss: 0.0202 - val_loss: 0.4691\nEpoch 31/40\n1s - loss: 0.0186 - val_loss: 0.4747\nEpoch 32/40\n1s - loss: 0.0184 - val_loss: 0.4899\nEpoch 33/40\n1s - loss: 0.0167 - val_loss: 0.5059\nEpoch 34/40\n1s - loss: 0.0163 - val_loss: 0.5020\nEpoch 35/40\n1s - loss: 0.0161 - val_loss: 0.5017\nEpoch 36/40\n1s - loss: 0.0140 - val_loss: 0.5010\nEpoch 37/40\n1s - loss: 0.0137 - val_loss: 0.5054\nEpoch 38/40\n1s - loss: 0.0120 - val_loss: 0.5128\nEpoch 39/40\n1s - loss: 0.0119 - val_loss: 0.5104\nEpoch 40/40\n1s - loss: 0.0125 - val_loss: 0.5212\nAccuracy of predicting floors =  0.8945665222610784\n--- Run time: 0.95 mins ---\n",
          "name": "stdout"
        }
      ]
    },
    {
      "metadata": {
        "trusted": true
      },
      "cell_type": "code",
      "source": "predictions = np.hstack((predictions1, predictions2)) \ny_test = np.hstack((y1,y2))  \n# accuracy\nprint(\"Total Accuracy = \",accuracy_score(y_test,predictions))\n\nprint(\"--- Run time: %s mins ---\" % np.round(((time.time() - start_time)/60),2))",
      "execution_count": 12,
      "outputs": [
        {
          "output_type": "stream",
          "text": "Total Accuracy =  0.8863197452894201\n--- Run time: 0.95 mins ---\n",
          "name": "stdout"
        }
      ]
    },
    {
      "metadata": {},
      "cell_type": "markdown",
      "source": "## Predicting longitude and latitude"
    },
    {
      "metadata": {
        "trusted": true
      },
      "cell_type": "code",
      "source": "start_time = time.time()\n\n# Define the model\nmodel_3 = Sequential()\nmodel_3.add(Dense(300, input_dim=523, activation='relu'))\nmodel_3.add(BatchNormalization())\nmodel_3.add(Dropout(0.2))\nmodel_3.add(Dense(300, activation='relu'))\nmodel_3.add(BatchNormalization())\nmodel_3.add(Dropout(0.2))\nmodel_3.add(Dense(300, activation='relu'))\nmodel_3.add(BatchNormalization())\nmodel_3.add(Dense(2, activation='linear'))\nmodel_3.compile(loss='mean_absolute_error', optimizer='adam')\n\n\n# Train the model\nmodel_3.fit(\n    X3,\n    y3,\n    batch_size=500,\n    validation_split = 0.4,\n    epochs=400,\n    shuffle=True,\n    verbose=2\n)\n\n\n",
      "execution_count": 13,
      "outputs": [
        {
          "output_type": "stream",
          "text": "Train on 11495 samples, validate on 7664 samples\nEpoch 1/400\n3s - loss: 132.8572 - val_loss: 161.6397\nEpoch 2/400\n3s - loss: 132.1203 - val_loss: 160.1506\nEpoch 3/400\n3s - loss: 130.7856 - val_loss: 158.7981\nEpoch 4/400\n2s - loss: 128.7131 - val_loss: 153.1603\nEpoch 5/400\n2s - loss: 125.8321 - val_loss: 150.5759\nEpoch 6/400\n3s - loss: 122.0929 - val_loss: 141.7781\nEpoch 7/400\n3s - loss: 117.4877 - val_loss: 126.8255\nEpoch 8/400\n3s - loss: 112.0156 - val_loss: 113.3146\nEpoch 9/400\n2s - loss: 105.6634 - val_loss: 96.4094\nEpoch 10/400\n2s - loss: 98.4430 - val_loss: 83.0864\nEpoch 11/400\n2s - loss: 90.3828 - val_loss: 74.0573\nEpoch 12/400\n2s - loss: 81.4624 - val_loss: 69.6719\nEpoch 13/400\n2s - loss: 71.7460 - val_loss: 60.0020\nEpoch 14/400\n3s - loss: 61.3636 - val_loss: 54.2280\nEpoch 15/400\n2s - loss: 50.5301 - val_loss: 44.7416\nEpoch 16/400\n4s - loss: 40.2584 - val_loss: 40.4122\nEpoch 17/400\n3s - loss: 31.4249 - val_loss: 37.7248\nEpoch 18/400\n3s - loss: 24.8923 - val_loss: 33.8833\nEpoch 19/400\n2s - loss: 20.0177 - val_loss: 29.0240\nEpoch 20/400\n3s - loss: 16.4706 - val_loss: 26.9117\nEpoch 21/400\n3s - loss: 13.5659 - val_loss: 26.8491\nEpoch 22/400\n3s - loss: 11.2177 - val_loss: 25.2988\nEpoch 23/400\n3s - loss: 9.9714 - val_loss: 19.7765\nEpoch 24/400\n3s - loss: 9.3373 - val_loss: 15.7914\nEpoch 25/400\n3s - loss: 8.8514 - val_loss: 16.6088\nEpoch 26/400\n3s - loss: 8.3773 - val_loss: 13.7249\nEpoch 27/400\n3s - loss: 8.0847 - val_loss: 13.9433\nEpoch 28/400\n3s - loss: 7.8160 - val_loss: 14.4923\nEpoch 29/400\n3s - loss: 8.0451 - val_loss: 12.1495\nEpoch 30/400\n2s - loss: 7.3728 - val_loss: 12.0026\nEpoch 31/400\n3s - loss: 7.5395 - val_loss: 11.1825\nEpoch 32/400\n3s - loss: 7.3234 - val_loss: 11.2301\nEpoch 33/400\n2s - loss: 7.0015 - val_loss: 10.9209\nEpoch 34/400\n3s - loss: 8.0633 - val_loss: 10.5352\nEpoch 35/400\n3s - loss: 7.2220 - val_loss: 11.7325\nEpoch 36/400\n4s - loss: 6.9287 - val_loss: 10.8509\nEpoch 37/400\n2s - loss: 6.9718 - val_loss: 10.6923\nEpoch 38/400\n2s - loss: 6.8068 - val_loss: 10.4250\nEpoch 39/400\n2s - loss: 6.8980 - val_loss: 10.3165\nEpoch 40/400\n3s - loss: 6.8466 - val_loss: 10.7668\nEpoch 41/400\n3s - loss: 6.2744 - val_loss: 10.2292\nEpoch 42/400\n3s - loss: 6.6524 - val_loss: 9.9118\nEpoch 43/400\n3s - loss: 6.2266 - val_loss: 10.1206\nEpoch 44/400\n2s - loss: 6.8342 - val_loss: 9.7511\nEpoch 45/400\n4s - loss: 6.0732 - val_loss: 10.2828\nEpoch 46/400\n3s - loss: 5.9902 - val_loss: 10.0677\nEpoch 47/400\n3s - loss: 6.3997 - val_loss: 10.4539\nEpoch 48/400\n3s - loss: 6.5086 - val_loss: 9.7109\nEpoch 49/400\n4s - loss: 6.0241 - val_loss: 9.7034\nEpoch 50/400\n3s - loss: 6.3384 - val_loss: 10.0668\nEpoch 51/400\n3s - loss: 5.6655 - val_loss: 10.0152\nEpoch 52/400\n3s - loss: 5.8673 - val_loss: 9.5902\nEpoch 53/400\n3s - loss: 6.5137 - val_loss: 9.9333\nEpoch 54/400\n4s - loss: 6.1646 - val_loss: 10.1039\nEpoch 55/400\n3s - loss: 6.2624 - val_loss: 10.0539\nEpoch 56/400\n3s - loss: 5.8917 - val_loss: 9.9296\nEpoch 57/400\n3s - loss: 5.9105 - val_loss: 9.7394\nEpoch 58/400\n4s - loss: 6.3165 - val_loss: 9.6839\nEpoch 59/400\n5s - loss: 5.6639 - val_loss: 9.6211\nEpoch 60/400\n4s - loss: 5.5303 - val_loss: 9.5246\nEpoch 61/400\n4s - loss: 6.3757 - val_loss: 9.6001\nEpoch 62/400\n4s - loss: 6.1902 - val_loss: 9.5208\nEpoch 63/400\n4s - loss: 5.5633 - val_loss: 9.4593\nEpoch 64/400\n4s - loss: 5.8871 - val_loss: 9.6366\nEpoch 65/400\n3s - loss: 5.5543 - val_loss: 9.4355\nEpoch 66/400\n4s - loss: 5.9942 - val_loss: 9.7241\nEpoch 67/400\n4s - loss: 5.7493 - val_loss: 9.5465\nEpoch 68/400\n3s - loss: 6.1166 - val_loss: 10.0384\nEpoch 69/400\n2s - loss: 5.7394 - val_loss: 9.6828\nEpoch 70/400\n2s - loss: 5.4474 - val_loss: 9.5035\nEpoch 71/400\n2s - loss: 5.4824 - val_loss: 9.4665\nEpoch 72/400\n3s - loss: 5.6026 - val_loss: 9.3830\nEpoch 73/400\n3s - loss: 5.9436 - val_loss: 9.3534\nEpoch 74/400\n3s - loss: 5.4522 - val_loss: 9.7432\nEpoch 75/400\n2s - loss: 5.6013 - val_loss: 9.3390\nEpoch 76/400\n2s - loss: 5.4134 - val_loss: 9.5236\nEpoch 77/400\n3s - loss: 5.4356 - val_loss: 9.2884\nEpoch 78/400\n3s - loss: 5.5879 - val_loss: 9.4498\nEpoch 79/400\n4s - loss: 5.4359 - val_loss: 9.3058\nEpoch 80/400\n2s - loss: 5.5274 - val_loss: 9.3222\nEpoch 81/400\n3s - loss: 5.3200 - val_loss: 9.4189\nEpoch 82/400\n3s - loss: 5.1824 - val_loss: 9.3159\nEpoch 83/400\n2s - loss: 5.4208 - val_loss: 9.2693\nEpoch 84/400\n3s - loss: 5.0188 - val_loss: 9.2337\nEpoch 85/400\n5s - loss: 5.2689 - val_loss: 9.4525\nEpoch 86/400\n4s - loss: 5.3672 - val_loss: 9.2737\nEpoch 87/400\n4s - loss: 5.5725 - val_loss: 9.1901\nEpoch 88/400\n4s - loss: 5.0557 - val_loss: 9.1790\nEpoch 89/400\n5s - loss: 5.5577 - val_loss: 9.1885\nEpoch 90/400\n4s - loss: 5.5437 - val_loss: 9.2067\nEpoch 91/400\n4s - loss: 5.4454 - val_loss: 9.0868\nEpoch 92/400\n4s - loss: 5.5283 - val_loss: 9.1778\nEpoch 93/400\n5s - loss: 5.2670 - val_loss: 9.0830\nEpoch 94/400\n4s - loss: 5.5197 - val_loss: 9.1350\nEpoch 95/400\n4s - loss: 5.2432 - val_loss: 9.1363\nEpoch 96/400\n4s - loss: 5.8751 - val_loss: 9.2116\nEpoch 97/400\n4s - loss: 5.2189 - val_loss: 9.3800\nEpoch 98/400\n5s - loss: 5.2289 - val_loss: 9.2463\nEpoch 99/400\n4s - loss: 5.6209 - val_loss: 9.2965\nEpoch 100/400\n4s - loss: 5.0578 - val_loss: 9.3276\nEpoch 101/400\n4s - loss: 4.8626 - val_loss: 9.2879\nEpoch 102/400\n5s - loss: 5.0538 - val_loss: 9.1342\nEpoch 103/400\n4s - loss: 5.2898 - val_loss: 9.0997\nEpoch 104/400\n4s - loss: 4.5221 - val_loss: 9.1399\nEpoch 105/400\n5s - loss: 5.1981 - val_loss: 9.2466\nEpoch 106/400\n5s - loss: 5.2716 - val_loss: 9.3478\nEpoch 107/400\n4s - loss: 5.8066 - val_loss: 9.0536\nEpoch 108/400\n5s - loss: 6.5263 - val_loss: 9.1801\nEpoch 109/400\n4s - loss: 5.5875 - val_loss: 9.1408\nEpoch 110/400\n4s - loss: 5.5821 - val_loss: 9.5099\nEpoch 111/400\n4s - loss: 5.4427 - val_loss: 9.0520\nEpoch 112/400\n4s - loss: 6.0768 - val_loss: 9.1824\nEpoch 113/400\n5s - loss: 5.5261 - val_loss: 9.1132\nEpoch 114/400\n4s - loss: 5.1688 - val_loss: 9.2110\nEpoch 115/400\n4s - loss: 5.3352 - val_loss: 9.0460\nEpoch 116/400\n4s - loss: 5.1441 - val_loss: 9.1414\nEpoch 117/400\n4s - loss: 5.2850 - val_loss: 8.9998\nEpoch 118/400\n5s - loss: 4.7967 - val_loss: 8.9737\nEpoch 119/400\n4s - loss: 5.0063 - val_loss: 9.1615\nEpoch 120/400\n5s - loss: 4.9797 - val_loss: 9.4071\nEpoch 121/400\n5s - loss: 5.1246 - val_loss: 8.9997\nEpoch 122/400\n4s - loss: 5.1647 - val_loss: 8.8976\nEpoch 123/400\n4s - loss: 4.8010 - val_loss: 8.9896\nEpoch 124/400\n5s - loss: 5.4711 - val_loss: 9.0506\nEpoch 125/400\n4s - loss: 5.2912 - val_loss: 9.0985\nEpoch 126/400\n5s - loss: 4.9105 - val_loss: 9.0157\nEpoch 127/400\n4s - loss: 5.1543 - val_loss: 9.1245\nEpoch 128/400\n5s - loss: 5.2502 - val_loss: 9.0138\nEpoch 129/400\n4s - loss: 5.0728 - val_loss: 8.9963\nEpoch 130/400\n5s - loss: 5.1986 - val_loss: 8.8977\nEpoch 131/400\n5s - loss: 4.9298 - val_loss: 9.0989\nEpoch 132/400\n4s - loss: 5.0675 - val_loss: 8.9349\nEpoch 133/400\n4s - loss: 4.8539 - val_loss: 9.0050\nEpoch 134/400\n4s - loss: 5.0222 - val_loss: 9.0326\nEpoch 135/400\n4s - loss: 5.0158 - val_loss: 8.9460\nEpoch 136/400\n5s - loss: 5.0084 - val_loss: 9.0191\nEpoch 137/400\n4s - loss: 5.1626 - val_loss: 8.9487\nEpoch 138/400\n4s - loss: 5.1244 - val_loss: 9.0067\nEpoch 139/400\n4s - loss: 5.1632 - val_loss: 8.9040\nEpoch 140/400\n5s - loss: 5.6285 - val_loss: 9.1755\nEpoch 141/400\n5s - loss: 5.2649 - val_loss: 9.0101\nEpoch 142/400\n4s - loss: 4.8865 - val_loss: 8.9292\nEpoch 143/400\n5s - loss: 5.1124 - val_loss: 9.0507\nEpoch 144/400\n4s - loss: 4.9031 - val_loss: 8.9061\nEpoch 145/400\n4s - loss: 4.3543 - val_loss: 9.0191\nEpoch 146/400\n4s - loss: 4.7153 - val_loss: 8.8658\nEpoch 147/400\n4s - loss: 5.1746 - val_loss: 8.9781\nEpoch 148/400\n5s - loss: 5.3833 - val_loss: 8.7972\nEpoch 149/400\n4s - loss: 4.9909 - val_loss: 9.5583\nEpoch 150/400\n4s - loss: 4.8887 - val_loss: 8.9530\nEpoch 151/400\n4s - loss: 5.2590 - val_loss: 8.8466\nEpoch 152/400\n4s - loss: 4.4812 - val_loss: 8.8589\nEpoch 153/400\n4s - loss: 4.6543 - val_loss: 8.9154\nEpoch 154/400\n4s - loss: 4.7429 - val_loss: 8.9671\nEpoch 155/400\n4s - loss: 4.2197 - val_loss: 9.0765\nEpoch 156/400\n5s - loss: 4.7021 - val_loss: 8.9007\nEpoch 157/400\n4s - loss: 5.2340 - val_loss: 8.9220\nEpoch 158/400\n4s - loss: 5.0308 - val_loss: 9.2864\nEpoch 159/400\n4s - loss: 4.8763 - val_loss: 8.9243\nEpoch 160/400\n5s - loss: 5.1579 - val_loss: 8.9557\nEpoch 161/400\n",
          "name": "stdout"
        },
        {
          "output_type": "stream",
          "text": "5s - loss: 5.2324 - val_loss: 9.1994\nEpoch 162/400\n4s - loss: 4.6866 - val_loss: 8.9821\nEpoch 163/400\n4s - loss: 4.6992 - val_loss: 8.9538\nEpoch 164/400\n4s - loss: 5.0373 - val_loss: 8.8440\nEpoch 165/400\n4s - loss: 5.0023 - val_loss: 8.9132\nEpoch 166/400\n4s - loss: 5.3444 - val_loss: 9.0441\nEpoch 167/400\n4s - loss: 5.6671 - val_loss: 9.0071\nEpoch 168/400\n5s - loss: 4.3400 - val_loss: 8.9925\nEpoch 169/400\n5s - loss: 4.0438 - val_loss: 9.2363\nEpoch 170/400\n5s - loss: 4.9009 - val_loss: 8.7539\nEpoch 171/400\n4s - loss: 4.8204 - val_loss: 9.3058\nEpoch 172/400\n4s - loss: 4.9534 - val_loss: 8.8313\nEpoch 173/400\n5s - loss: 4.5802 - val_loss: 8.7908\nEpoch 174/400\n5s - loss: 4.9468 - val_loss: 8.9609\nEpoch 175/400\n4s - loss: 4.7008 - val_loss: 9.0689\nEpoch 176/400\n4s - loss: 4.4653 - val_loss: 8.9462\nEpoch 177/400\n4s - loss: 5.1212 - val_loss: 9.0489\nEpoch 178/400\n4s - loss: 5.0130 - val_loss: 9.2181\nEpoch 179/400\n4s - loss: 4.6722 - val_loss: 8.9085\nEpoch 180/400\n4s - loss: 5.0658 - val_loss: 8.8170\nEpoch 181/400\n4s - loss: 4.2559 - val_loss: 9.1267\nEpoch 182/400\n5s - loss: 4.7053 - val_loss: 9.3095\nEpoch 183/400\n5s - loss: 4.2769 - val_loss: 9.2628\nEpoch 184/400\n4s - loss: 4.7612 - val_loss: 9.1561\nEpoch 185/400\n4s - loss: 4.4853 - val_loss: 9.2458\nEpoch 186/400\n4s - loss: 4.6244 - val_loss: 9.3937\nEpoch 187/400\n4s - loss: 3.8394 - val_loss: 9.0604\nEpoch 188/400\n4s - loss: 5.0465 - val_loss: 9.0241\nEpoch 189/400\n4s - loss: 4.8008 - val_loss: 9.3646\nEpoch 190/400\n5s - loss: 4.2386 - val_loss: 9.1029\nEpoch 191/400\n5s - loss: 5.2567 - val_loss: 9.1807\nEpoch 192/400\n4s - loss: 4.3954 - val_loss: 9.5017\nEpoch 193/400\n4s - loss: 4.7842 - val_loss: 9.0675\nEpoch 194/400\n5s - loss: 3.8422 - val_loss: 8.9337\nEpoch 195/400\n6s - loss: 4.9604 - val_loss: 8.8715\nEpoch 196/400\n5s - loss: 4.2469 - val_loss: 9.1664\nEpoch 197/400\n5s - loss: 5.1684 - val_loss: 9.4457\nEpoch 198/400\n5s - loss: 4.5332 - val_loss: 9.2769\nEpoch 199/400\n5s - loss: 4.7838 - val_loss: 8.8560\nEpoch 200/400\n5s - loss: 4.6255 - val_loss: 9.1207\nEpoch 201/400\n5s - loss: 4.5371 - val_loss: 9.0618\nEpoch 202/400\n5s - loss: 4.4056 - val_loss: 8.7995\nEpoch 203/400\n5s - loss: 4.5676 - val_loss: 8.8459\nEpoch 204/400\n5s - loss: 4.7224 - val_loss: 9.0882\nEpoch 205/400\n5s - loss: 3.9770 - val_loss: 8.8280\nEpoch 206/400\n5s - loss: 5.0193 - val_loss: 8.7869\nEpoch 207/400\n5s - loss: 3.9724 - val_loss: 9.1978\nEpoch 208/400\n4s - loss: 4.2371 - val_loss: 9.2642\nEpoch 209/400\n5s - loss: 4.3388 - val_loss: 9.2319\nEpoch 210/400\n5s - loss: 4.2595 - val_loss: 9.3055\nEpoch 211/400\n5s - loss: 3.9669 - val_loss: 9.1832\nEpoch 212/400\n4s - loss: 4.3271 - val_loss: 8.8534\nEpoch 213/400\n4s - loss: 4.4761 - val_loss: 8.9675\nEpoch 214/400\n4s - loss: 3.8630 - val_loss: 8.8413\nEpoch 215/400\n5s - loss: 4.8162 - val_loss: 8.7434\nEpoch 216/400\n5s - loss: 4.2333 - val_loss: 9.0493\nEpoch 217/400\n5s - loss: 4.4329 - val_loss: 9.1075\nEpoch 218/400\n4s - loss: 4.2331 - val_loss: 8.6608\nEpoch 219/400\n4s - loss: 4.9801 - val_loss: 8.6478\nEpoch 220/400\n4s - loss: 4.7014 - val_loss: 8.8051\nEpoch 221/400\n4s - loss: 4.3231 - val_loss: 8.7583\nEpoch 222/400\n5s - loss: 4.5150 - val_loss: 9.1937\nEpoch 223/400\n4s - loss: 4.3083 - val_loss: 8.9352\nEpoch 224/400\n4s - loss: 4.2095 - val_loss: 8.7474\nEpoch 225/400\n4s - loss: 4.1594 - val_loss: 9.0887\nEpoch 226/400\n4s - loss: 4.6129 - val_loss: 9.1170\nEpoch 227/400\n4s - loss: 4.4288 - val_loss: 8.8201\nEpoch 228/400\n5s - loss: 4.3138 - val_loss: 9.0537\nEpoch 229/400\n4s - loss: 4.0259 - val_loss: 8.6892\nEpoch 230/400\n5s - loss: 4.0959 - val_loss: 8.9554\nEpoch 231/400\n4s - loss: 3.9241 - val_loss: 8.6932\nEpoch 232/400\n4s - loss: 4.3984 - val_loss: 9.0957\nEpoch 233/400\n4s - loss: 4.0659 - val_loss: 8.6724\nEpoch 234/400\n4s - loss: 4.3207 - val_loss: 9.2218\nEpoch 235/400\n5s - loss: 4.4332 - val_loss: 9.2071\nEpoch 236/400\n5s - loss: 4.3844 - val_loss: 8.8335\nEpoch 237/400\n5s - loss: 4.2792 - val_loss: 8.5946\nEpoch 238/400\n4s - loss: 4.6755 - val_loss: 8.9361\nEpoch 239/400\n4s - loss: 4.4534 - val_loss: 8.6605\nEpoch 240/400\n5s - loss: 4.5787 - val_loss: 8.9204\nEpoch 241/400\n4s - loss: 4.9164 - val_loss: 8.9694\nEpoch 242/400\n4s - loss: 4.7935 - val_loss: 8.5550\nEpoch 243/400\n4s - loss: 4.6650 - val_loss: 9.2989\nEpoch 244/400\n4s - loss: 4.1956 - val_loss: 8.5708\nEpoch 245/400\n4s - loss: 3.6397 - val_loss: 8.7339\nEpoch 246/400\n4s - loss: 4.4452 - val_loss: 8.7072\nEpoch 247/400\n4s - loss: 3.8983 - val_loss: 8.7022\nEpoch 248/400\n4s - loss: 4.1987 - val_loss: 8.6727\nEpoch 249/400\n4s - loss: 4.4150 - val_loss: 8.6768\nEpoch 250/400\n5s - loss: 4.4371 - val_loss: 8.8832\nEpoch 251/400\n4s - loss: 5.1209 - val_loss: 8.7726\nEpoch 252/400\n5s - loss: 4.4065 - val_loss: 8.6441\nEpoch 253/400\n5s - loss: 4.2019 - val_loss: 8.7660\nEpoch 254/400\n4s - loss: 4.2857 - val_loss: 8.6136\nEpoch 255/400\n4s - loss: 3.8152 - val_loss: 8.8490\nEpoch 256/400\n4s - loss: 4.3272 - val_loss: 8.6352\nEpoch 257/400\n5s - loss: 4.7523 - val_loss: 8.5195\nEpoch 258/400\n4s - loss: 4.8831 - val_loss: 8.7450\nEpoch 259/400\n4s - loss: 4.2640 - val_loss: 9.4748\nEpoch 260/400\n4s - loss: 3.9412 - val_loss: 8.4933\nEpoch 261/400\n4s - loss: 4.3156 - val_loss: 8.5769\nEpoch 262/400\n4s - loss: 4.2330 - val_loss: 8.6390\nEpoch 263/400\n4s - loss: 3.8657 - val_loss: 8.7226\nEpoch 264/400\n4s - loss: 3.8998 - val_loss: 8.6277\nEpoch 265/400\n4s - loss: 4.0863 - val_loss: 8.6504\nEpoch 266/400\n4s - loss: 3.5398 - val_loss: 8.6261\nEpoch 267/400\n4s - loss: 3.8043 - val_loss: 8.6388\nEpoch 268/400\n4s - loss: 4.7975 - val_loss: 8.8123\nEpoch 269/400\n4s - loss: 4.4244 - val_loss: 8.6423\nEpoch 270/400\n5s - loss: 3.8808 - val_loss: 8.5716\nEpoch 271/400\n4s - loss: 3.6073 - val_loss: 9.3319\nEpoch 272/400\n4s - loss: 4.4107 - val_loss: 8.9945\nEpoch 273/400\n4s - loss: 4.3539 - val_loss: 8.7984\nEpoch 274/400\n5s - loss: 4.4411 - val_loss: 8.6280\nEpoch 275/400\n6s - loss: 4.3714 - val_loss: 8.6661\nEpoch 276/400\n6s - loss: 4.2085 - val_loss: 8.5892\nEpoch 277/400\n6s - loss: 3.7901 - val_loss: 8.5630\nEpoch 278/400\n6s - loss: 3.7717 - val_loss: 8.5703\nEpoch 279/400\n7s - loss: 3.6844 - val_loss: 8.5516\nEpoch 280/400\n6s - loss: 4.6791 - val_loss: 8.9363\nEpoch 281/400\n6s - loss: 4.0161 - val_loss: 8.6066\nEpoch 282/400\n6s - loss: 4.8555 - val_loss: 8.8236\nEpoch 283/400\n6s - loss: 4.0660 - val_loss: 8.7148\nEpoch 284/400\n6s - loss: 4.0570 - val_loss: 8.5819\nEpoch 285/400\n6s - loss: 4.5487 - val_loss: 8.5398\nEpoch 286/400\n6s - loss: 4.4524 - val_loss: 8.5663\nEpoch 287/400\n6s - loss: 4.0168 - val_loss: 8.8216\nEpoch 288/400\n6s - loss: 4.2790 - val_loss: 9.1155\nEpoch 289/400\n6s - loss: 4.3909 - val_loss: 8.6858\nEpoch 290/400\n6s - loss: 4.7009 - val_loss: 8.8781\nEpoch 291/400\n6s - loss: 4.1779 - val_loss: 8.5922\nEpoch 292/400\n6s - loss: 4.0675 - val_loss: 8.5052\nEpoch 293/400\n6s - loss: 3.9071 - val_loss: 8.5796\nEpoch 294/400\n6s - loss: 4.2744 - val_loss: 8.8849\nEpoch 295/400\n7s - loss: 3.5309 - val_loss: 8.6016\nEpoch 296/400\n7s - loss: 4.8473 - val_loss: 8.5823\nEpoch 297/400\n6s - loss: 4.3821 - val_loss: 8.5791\nEpoch 298/400\n6s - loss: 3.8490 - val_loss: 8.6650\nEpoch 299/400\n6s - loss: 4.7033 - val_loss: 8.6201\nEpoch 300/400\n6s - loss: 4.4758 - val_loss: 8.5209\nEpoch 301/400\n6s - loss: 3.8302 - val_loss: 8.4998\nEpoch 302/400\n6s - loss: 4.4233 - val_loss: 8.7227\nEpoch 303/400\n6s - loss: 3.9461 - val_loss: 8.5427\nEpoch 304/400\n6s - loss: 3.9267 - val_loss: 8.5988\nEpoch 305/400\n5s - loss: 3.9247 - val_loss: 8.6410\nEpoch 306/400\n5s - loss: 4.3940 - val_loss: 8.7419\nEpoch 307/400\n5s - loss: 4.0546 - val_loss: 8.5838\nEpoch 308/400\n5s - loss: 4.4840 - val_loss: 9.0482\nEpoch 309/400\n6s - loss: 4.2572 - val_loss: 9.1161\nEpoch 310/400\n6s - loss: 4.3430 - val_loss: 8.5301\nEpoch 311/400\n6s - loss: 4.9882 - val_loss: 8.6891\nEpoch 312/400\n6s - loss: 3.8652 - val_loss: 8.5624\nEpoch 313/400\n6s - loss: 3.9630 - val_loss: 8.5085\nEpoch 314/400\n5s - loss: 4.6352 - val_loss: 9.2959\nEpoch 315/400\n5s - loss: 4.9898 - val_loss: 8.7445\nEpoch 316/400\n5s - loss: 4.1698 - val_loss: 8.8286\nEpoch 317/400\n5s - loss: 3.9501 - val_loss: 8.4930\nEpoch 318/400\n5s - loss: 4.0832 - val_loss: 8.4448\nEpoch 319/400\n4s - loss: 3.9988 - val_loss: 8.6040\nEpoch 320/400\n5s - loss: 3.5938 - val_loss: 8.5242\nEpoch 321/400\n6s - loss: 4.2157 - val_loss: 8.6481\nEpoch 322/400\n",
          "name": "stdout"
        },
        {
          "output_type": "stream",
          "text": "5s - loss: 4.0178 - val_loss: 8.4874\nEpoch 323/400\n5s - loss: 4.3916 - val_loss: 8.5268\nEpoch 324/400\n5s - loss: 4.8889 - val_loss: 8.5383\nEpoch 325/400\n5s - loss: 3.5519 - val_loss: 8.5487\nEpoch 326/400\n5s - loss: 4.0665 - val_loss: 8.5436\nEpoch 327/400\n5s - loss: 4.0740 - val_loss: 8.5233\nEpoch 328/400\n4s - loss: 4.4186 - val_loss: 8.5900\nEpoch 329/400\n5s - loss: 3.8656 - val_loss: 8.5610\nEpoch 330/400\n4s - loss: 4.1650 - val_loss: 8.4637\nEpoch 331/400\n6s - loss: 4.4990 - val_loss: 8.6452\nEpoch 332/400\n6s - loss: 4.1018 - val_loss: 8.6944\nEpoch 333/400\n5s - loss: 3.8141 - val_loss: 8.5968\nEpoch 334/400\n5s - loss: 3.7440 - val_loss: 8.5582\nEpoch 335/400\n5s - loss: 4.1534 - val_loss: 8.5362\nEpoch 336/400\n5s - loss: 3.3377 - val_loss: 8.4599\nEpoch 337/400\n5s - loss: 3.9372 - val_loss: 8.4019\nEpoch 338/400\n5s - loss: 4.2305 - val_loss: 8.4412\nEpoch 339/400\n5s - loss: 4.3458 - val_loss: 8.5404\nEpoch 340/400\n5s - loss: 4.0678 - val_loss: 8.4678\nEpoch 341/400\n5s - loss: 3.8808 - val_loss: 8.5266\nEpoch 342/400\n5s - loss: 3.9069 - val_loss: 8.5674\nEpoch 343/400\n4s - loss: 3.7042 - val_loss: 8.5296\nEpoch 344/400\n5s - loss: 4.3117 - val_loss: 8.3863\nEpoch 345/400\n4s - loss: 5.1650 - val_loss: 8.5190\nEpoch 346/400\n4s - loss: 4.4135 - val_loss: 8.5251\nEpoch 347/400\n4s - loss: 4.1484 - val_loss: 8.9366\nEpoch 348/400\n4s - loss: 4.0711 - val_loss: 8.4198\nEpoch 349/400\n5s - loss: 3.2491 - val_loss: 8.4336\nEpoch 350/400\n4s - loss: 3.9930 - val_loss: 8.5464\nEpoch 351/400\n5s - loss: 4.6746 - val_loss: 8.5574\nEpoch 352/400\n4s - loss: 3.6658 - val_loss: 8.4847\nEpoch 353/400\n4s - loss: 4.5098 - val_loss: 8.4502\nEpoch 354/400\n4s - loss: 4.1036 - val_loss: 8.5094\nEpoch 355/400\n5s - loss: 3.6211 - val_loss: 8.4877\nEpoch 356/400\n4s - loss: 3.8679 - val_loss: 8.5566\nEpoch 357/400\n4s - loss: 3.9762 - val_loss: 8.3929\nEpoch 358/400\n4s - loss: 3.4239 - val_loss: 8.4139\nEpoch 359/400\n4s - loss: 2.8036 - val_loss: 8.3785\nEpoch 360/400\n4s - loss: 4.0240 - val_loss: 8.5303\nEpoch 361/400\n5s - loss: 4.0301 - val_loss: 8.6875\nEpoch 362/400\n4s - loss: 4.5744 - val_loss: 8.4449\nEpoch 363/400\n5s - loss: 4.0548 - val_loss: 8.5387\nEpoch 364/400\n5s - loss: 3.5408 - val_loss: 8.4625\nEpoch 365/400\n5s - loss: 4.0404 - val_loss: 8.4563\nEpoch 366/400\n4s - loss: 4.0133 - val_loss: 8.6930\nEpoch 367/400\n5s - loss: 4.3753 - val_loss: 8.7608\nEpoch 368/400\n4s - loss: 3.6970 - val_loss: 8.5804\nEpoch 369/400\n4s - loss: 4.7843 - val_loss: 8.4600\nEpoch 370/400\n4s - loss: 3.4094 - val_loss: 8.5392\nEpoch 371/400\n5s - loss: 3.7915 - val_loss: 8.4485\nEpoch 372/400\n5s - loss: 3.5096 - val_loss: 8.6337\nEpoch 373/400\n5s - loss: 3.4076 - val_loss: 8.4005\nEpoch 374/400\n4s - loss: 4.9272 - val_loss: 8.3685\nEpoch 375/400\n5s - loss: 3.4167 - val_loss: 8.3937\nEpoch 376/400\n4s - loss: 4.0128 - val_loss: 8.4084\nEpoch 377/400\n5s - loss: 3.8499 - val_loss: 8.4410\nEpoch 378/400\n4s - loss: 3.7549 - val_loss: 8.4476\nEpoch 379/400\n4s - loss: 3.7922 - val_loss: 8.7315\nEpoch 380/400\n4s - loss: 4.0827 - val_loss: 8.6525\nEpoch 381/400\n4s - loss: 4.9985 - val_loss: 8.7178\nEpoch 382/400\n5s - loss: 4.1702 - val_loss: 8.5241\nEpoch 383/400\n5s - loss: 3.8987 - val_loss: 8.5130\nEpoch 384/400\n5s - loss: 3.9527 - val_loss: 8.5570\nEpoch 385/400\n4s - loss: 4.3423 - val_loss: 8.4773\nEpoch 386/400\n6s - loss: 4.2497 - val_loss: 8.7273\nEpoch 387/400\n6s - loss: 4.6333 - val_loss: 9.0835\nEpoch 388/400\n6s - loss: 3.8387 - val_loss: 8.6961\nEpoch 389/400\n5s - loss: 4.1297 - val_loss: 8.4909\nEpoch 390/400\n6s - loss: 3.7596 - val_loss: 8.5594\nEpoch 391/400\n6s - loss: 4.1537 - val_loss: 8.4939\nEpoch 392/400\n6s - loss: 3.6306 - val_loss: 8.6021\nEpoch 393/400\n6s - loss: 3.8361 - val_loss: 8.6214\nEpoch 394/400\n5s - loss: 3.9198 - val_loss: 8.3682\nEpoch 395/400\n5s - loss: 4.0571 - val_loss: 8.4144\nEpoch 396/400\n6s - loss: 4.0867 - val_loss: 8.4502\nEpoch 397/400\n6s - loss: 3.7673 - val_loss: 8.4441\nEpoch 398/400\n5s - loss: 4.2818 - val_loss: 8.5117\nEpoch 399/400\n5s - loss: 4.3555 - val_loss: 8.4365\nEpoch 400/400\n5s - loss: 3.7930 - val_loss: 8.3729\n",
          "name": "stdout"
        },
        {
          "output_type": "execute_result",
          "execution_count": 13,
          "data": {
            "text/plain": "<keras.callbacks.History at 0x7f6d7c4867b8>"
          },
          "metadata": {}
        }
      ]
    },
    {
      "metadata": {
        "trusted": true
      },
      "cell_type": "code",
      "source": "predictions3 = (model_3.predict(X3))\n\n# accuracy\nprint(\"RMSE of predicting LONGTITUDE = \", mean_absolute_error(y3[:,0],predictions3[:,0]))\nprint(\"RMSE of predicting LATITUDE = \", mean_absolute_error(y3[:,1],predictions3[:,1]))\n\n\nprint(\"--- Run time: %s mins ---\" % np.round(((time.time() - start_time)/60),2))",
      "execution_count": 14,
      "outputs": [
        {
          "output_type": "stream",
          "text": "RMSE of predicting LONGTITUDE =  4.345472417491149\nRMSE of predicting LATITUDE =  3.695972426463191\n--- Run time: 32.18 mins ---\n",
          "name": "stdout"
        }
      ]
    },
    {
      "metadata": {
        "trusted": true
      },
      "cell_type": "code",
      "source": "",
      "execution_count": null,
      "outputs": []
    }
  ],
  "metadata": {
    "kernelspec": {
      "name": "python3",
      "display_name": "Python 3",
      "language": "python"
    },
    "language_info": {
      "mimetype": "text/x-python",
      "nbconvert_exporter": "python",
      "name": "python",
      "pygments_lexer": "ipython3",
      "version": "3.5.4",
      "file_extension": ".py",
      "codemirror_mode": {
        "version": 3,
        "name": "ipython"
      }
    }
  },
  "nbformat": 4,
  "nbformat_minor": 2
}